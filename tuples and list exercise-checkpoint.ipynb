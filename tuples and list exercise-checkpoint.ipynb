{
 "cells": [
  {
   "cell_type": "markdown",
   "metadata": {},
   "source": [
    "<h2>Ex.1 </h2>Here is a tuple specified<br><strong>tuple_one = (67,89,8,33,48,34,236,34,45,65,6,33,24,43,24,54,65,53,6,6,6,3,43,24,2,53,2,53,4,5,34,5)</strong><br>Get Sum all the values at the index of multiple of 3 to variable <span style=\"color:red;\">sum_t1</span><br>For example : 67,33,236,65,....<br>Divide sum_t1 by 577 and assign it to <span style=\"color:red;\">output_q1</span>"
   ]
  },
  {
   "cell_type": "code",
   "execution_count": 25,
   "metadata": {},
   "outputs": [
    {
     "name": "stdout",
     "output_type": "stream",
     "text": [
      "396\n",
      "Your code is incorrect\n"
     ]
    }
   ],
   "source": [
    "tuple_one = (67,89,8,33,48,34,236,34,45,65,6,33,24,43,24,54,65,53,6,6,6,3,43,24,2,53,2,53,4,5,34,5)\n",
    "sum_t1 = 0\n",
    "\n",
    "for i in range(0,len(tuple_one),3):\n",
    "    sum_t1 += tuple_one[i]\n",
    "output_q1 = sum_t1/577\n",
    "\n",
    "\n",
    "\n",
    "\n",
    "\n",
    "if(output_q1==1):\n",
    "    print(\"Your code is correct\")\n",
    "else:\n",
    "    print(\"Your code is incorrect\")"
   ]
  },
  {
   "cell_type": "code",
   "execution_count": 31,
   "metadata": {},
   "outputs": [
    {
     "name": "stdout",
     "output_type": "stream",
     "text": [
      "67\n",
      "33\n",
      "236\n",
      "65\n",
      "24\n",
      "54\n",
      "6\n",
      "3\n",
      "2\n",
      "53\n",
      "34\n"
     ]
    }
   ],
   "source": [
    "tuple_one = (67,89,8,33,48,34,236,34,45,65,6,33,24,43,24,54,65,53,6,6,6,3,43,24,2,53,2,53,4,5,34,5)\n",
    "sum_t1 = 0\n",
    "\n",
    "for i in range(0,len(tuple_one),3):\n",
    "    print(tuple_one[i])\n",
    "    sum_t1 += tuple_one[i]\n",
    "output_q1 = sum_t1/577\n",
    "\n",
    "\n",
    "\n"
   ]
  },
  {
   "cell_type": "markdown",
   "metadata": {},
   "source": [
    "<h2>Ex.2</h2>From tuple_one use a single loop and<br>find the index number of 236 and assign to index_236.<br>Find the counts where two even numbers are neighbours"
   ]
  },
  {
   "cell_type": "code",
   "execution_count": 14,
   "metadata": {},
   "outputs": [
    {
     "name": "stdout",
     "output_type": "stream",
     "text": [
      "267\n",
      "Your code is incorrect\n"
     ]
    }
   ],
   "source": [
    "tuple_one = (67,89,8,33,48,34,236,34,45,65,6,33,24,43,24,54,65,53,6,6,6,3,43,24,2,53,2,53,4,5,34,5)\n",
    "counts = int(i)\n",
    "for i in range(0, len(tuple_one)): #if error occurs of out of index try to decrement range with 1 and think why it was happened\n",
    "    if tuple_one[i]%2 == 0 and tuple_one[i+1]%2 == 0:\n",
    "        i += 1\n",
    "    if tuple_one[i] == 236:\n",
    "        index_236 = tuple_one[i]\n",
    "        \n",
    "        \n",
    "        \n",
    "print(counts+index_236)\n",
    "if (counts+index_236)/13 == 1:\n",
    "    print(\"Your code is correct\")\n",
    "else:\n",
    "    print(\"Your code is incorrect\")"
   ]
  },
  {
   "cell_type": "markdown",
   "metadata": {},
   "source": [
    "<h2>Ex.3</h2>Get the Maximum value in tuple_one from index 8 to 15 including both and assign it to max_value<br>do not use min and max predefined functions"
   ]
  },
  {
   "cell_type": "code",
   "execution_count": 17,
   "metadata": {},
   "outputs": [
    {
     "ename": "TypeError",
     "evalue": "tuple indices must be integers or slices, not tuple",
     "output_type": "error",
     "traceback": [
      "\u001b[1;31m---------------------------------------------------------------------------\u001b[0m",
      "\u001b[1;31mTypeError\u001b[0m                                 Traceback (most recent call last)",
      "\u001b[1;32m<ipython-input-17-518acd83cc62>\u001b[0m in \u001b[0;36m<module>\u001b[1;34m\u001b[0m\n\u001b[0;32m      2\u001b[0m \u001b[0mmax_value\u001b[0m \u001b[1;33m=\u001b[0m \u001b[1;36m0\u001b[0m\u001b[1;33m\u001b[0m\u001b[1;33m\u001b[0m\u001b[0m\n\u001b[0;32m      3\u001b[0m \u001b[1;32mfor\u001b[0m \u001b[0mi\u001b[0m \u001b[1;32min\u001b[0m \u001b[0mtuple_one\u001b[0m\u001b[1;33m:\u001b[0m\u001b[1;33m\u001b[0m\u001b[1;33m\u001b[0m\u001b[0m\n\u001b[1;32m----> 4\u001b[1;33m     \u001b[1;32mif\u001b[0m \u001b[0mtuple_one\u001b[0m\u001b[1;33m[\u001b[0m\u001b[1;36m8\u001b[0m\u001b[1;33m,\u001b[0m\u001b[1;36m15\u001b[0m\u001b[1;33m]\u001b[0m \u001b[1;33m>\u001b[0m \u001b[0mtuple_one\u001b[0m\u001b[1;33m[\u001b[0m\u001b[0mi\u001b[0m\u001b[1;33m]\u001b[0m\u001b[1;33m:\u001b[0m\u001b[1;33m\u001b[0m\u001b[1;33m\u001b[0m\u001b[0m\n\u001b[0m\u001b[0;32m      5\u001b[0m         \u001b[0mmax_value\u001b[0m \u001b[1;33m=\u001b[0m \u001b[0mtuple_one\u001b[0m\u001b[1;33m[\u001b[0m\u001b[0mi\u001b[0m\u001b[1;33m]\u001b[0m\u001b[1;33m\u001b[0m\u001b[1;33m\u001b[0m\u001b[0m\n\u001b[0;32m      6\u001b[0m \u001b[1;33m\u001b[0m\u001b[0m\n",
      "\u001b[1;31mTypeError\u001b[0m: tuple indices must be integers or slices, not tuple"
     ]
    }
   ],
   "source": [
    "tuple_one = (67,89,8,33,48,34,236,34,45,65,6,33,24,43,24,54,65,53,6,6,6,3,43,24,2,53,2,53,4,5,34,5)\n",
    "max_value = 0\n",
    "for i in tuple_one:\n",
    "    if tuple_one[8,15] > tuple_one[i]:\n",
    "        max_value = tuple_one[i]\n",
    "        \n",
    "        \n",
    "        \n",
    "if max_value == 65:\n",
    "    print(\"Your code is correct\")\n",
    "else:\n",
    "    print(\"Your code is incorrect\")"
   ]
  },
  {
   "cell_type": "code",
   "execution_count": 20,
   "metadata": {
    "scrolled": true
   },
   "outputs": [
    {
     "ename": "AttributeError",
     "evalue": "'tuple' object has no attribute 'append'",
     "output_type": "error",
     "traceback": [
      "\u001b[1;31m---------------------------------------------------------------------------\u001b[0m",
      "\u001b[1;31mAttributeError\u001b[0m                            Traceback (most recent call last)",
      "\u001b[1;32m<ipython-input-20-f76479579f7c>\u001b[0m in \u001b[0;36m<module>\u001b[1;34m\u001b[0m\n\u001b[0;32m      1\u001b[0m \u001b[0mtuple_two\u001b[0m \u001b[1;33m=\u001b[0m \u001b[1;33m(\u001b[0m\u001b[0mtuple_one\u001b[0m\u001b[1;33m)\u001b[0m\u001b[1;33m\u001b[0m\u001b[1;33m\u001b[0m\u001b[0m\n\u001b[1;32m----> 2\u001b[1;33m \u001b[0mtuple_two\u001b[0m\u001b[1;33m.\u001b[0m\u001b[0mappend\u001b[0m\u001b[1;33m[\u001b[0m\u001b[1;34m\"December\"\u001b[0m\u001b[1;33m]\u001b[0m\u001b[1;33m\u001b[0m\u001b[1;33m\u001b[0m\u001b[0m\n\u001b[0m",
      "\u001b[1;31mAttributeError\u001b[0m: 'tuple' object has no attribute 'append'"
     ]
    }
   ],
   "source": [
    "tuple_two = (tuple_one)\n",
    "tuple_two.append[\"December\"]"
   ]
  },
  {
   "cell_type": "markdown",
   "metadata": {},
   "source": [
    "<h2>Ex.4</h2>\n",
    "create a tuple and name it 'tuple_two' <br> at index 0 insert tuple_one <br> at index 1 insert 'December'<br> at index 2 insert value of pi <br> at index 3 insert square of 789 <br> at index 4 insert [5,6]<br> get minimum value from index 0 of tuple_two and multiply with the sum of values at index 4.<br> Answer is 22 but write the code and check whether you are correct or not."
   ]
  },
  {
   "cell_type": "code",
   "execution_count": 3,
   "metadata": {},
   "outputs": [
    {
     "ename": "AttributeError",
     "evalue": "'tuple' object has no attribute 'extend'",
     "output_type": "error",
     "traceback": [
      "\u001b[1;31m---------------------------------------------------------------------------\u001b[0m",
      "\u001b[1;31mAttributeError\u001b[0m                            Traceback (most recent call last)",
      "\u001b[1;32m<ipython-input-3-19140bf8fb55>\u001b[0m in \u001b[0;36m<module>\u001b[1;34m\u001b[0m\n\u001b[0;32m      1\u001b[0m \u001b[0mtuple_two\u001b[0m \u001b[1;33m=\u001b[0m \u001b[1;33m(\u001b[0m\u001b[0mtuple_one\u001b[0m\u001b[1;33m)\u001b[0m\u001b[1;33m\u001b[0m\u001b[1;33m\u001b[0m\u001b[0m\n\u001b[1;32m----> 2\u001b[1;33m \u001b[0mtuple_two\u001b[0m\u001b[1;33m.\u001b[0m\u001b[0mextend\u001b[0m\u001b[1;33m[\u001b[0m\u001b[1;34m\"December\"\u001b[0m\u001b[1;33m]\u001b[0m\u001b[1;33m\u001b[0m\u001b[1;33m\u001b[0m\u001b[0m\n\u001b[0m",
      "\u001b[1;31mAttributeError\u001b[0m: 'tuple' object has no attribute 'extend'"
     ]
    }
   ],
   "source": [
    "tuple_two = (tuple_one)\n",
    "tuple_two.extend[\"December\"]"
   ]
  },
  {
   "cell_type": "markdown",
   "metadata": {},
   "source": [
    "<h2>Ex.5</h2>count the occurance of letter 'e' in tuple_two"
   ]
  },
  {
   "cell_type": "code",
   "execution_count": null,
   "metadata": {},
   "outputs": [],
   "source": []
  },
  {
   "cell_type": "markdown",
   "metadata": {},
   "source": [
    "<h2>Ex.6</h2>\n",
    "you know the index number of list in tuple_two add 7,8,9,10,....,13 values in that list"
   ]
  },
  {
   "cell_type": "code",
   "execution_count": null,
   "metadata": {},
   "outputs": [],
   "source": []
  },
  {
   "cell_type": "markdown",
   "metadata": {},
   "source": [
    "<h2>Ex. 7</h2>\n",
    "list_1 = [7,8,9,10,11,......,320]<br>\n",
    "list_2 = [328,327,326,325,.....,15]\n",
    "<br> add first element of list_1 with last element of list_2 and append to list_3\n",
    "<br> add second element of list_1 with second last element of list_2 and append to list_3\n",
    "<br> and so on"
   ]
  },
  {
   "cell_type": "code",
   "execution_count": 19,
   "metadata": {},
   "outputs": [
    {
     "ename": "SyntaxError",
     "evalue": "invalid syntax (<ipython-input-19-6983404f979e>, line 2)",
     "output_type": "error",
     "traceback": [
      "\u001b[1;36m  File \u001b[1;32m\"<ipython-input-19-6983404f979e>\"\u001b[1;36m, line \u001b[1;32m2\u001b[0m\n\u001b[1;33m    list_3 = [[list_1[1] + list_2[-2]]\u001b[0m\n\u001b[1;37m    ^\u001b[0m\n\u001b[1;31mSyntaxError\u001b[0m\u001b[1;31m:\u001b[0m invalid syntax\n"
     ]
    }
   ],
   "source": [
    "list_3 = [[list_1[0] + list_2[-1]]\n",
    "list_3 = [[list_1[1] + list_2[-2]]"
   ]
  },
  {
   "cell_type": "markdown",
   "metadata": {},
   "source": [
    "<h2>Ex. 8</h2><br> Get the slice of list_2 from index 67 to 220 including both and step of 5 then multiply with two and save in list_4"
   ]
  },
  {
   "cell_type": "code",
   "execution_count": null,
   "metadata": {},
   "outputs": [],
   "source": []
  },
  {
   "cell_type": "markdown",
   "metadata": {},
   "source": [
    "<h2>Ex.9 </h2> copy list_4 to list_5 and increment second last value of list_5<br> then print second last value of list_4. Think about the process behind it."
   ]
  },
  {
   "cell_type": "code",
   "execution_count": null,
   "metadata": {},
   "outputs": [],
   "source": []
  },
  {
   "cell_type": "markdown",
   "metadata": {},
   "source": [
    "<h2>Ex.10 </h2><br>\n",
    "get the average,minimum,maximum,length and sum of list_6 = list_5[10::-1]"
   ]
  },
  {
   "cell_type": "code",
   "execution_count": null,
   "metadata": {},
   "outputs": [],
   "source": []
  }
 ],
 "metadata": {
  "kernelspec": {
   "display_name": "Python 3",
   "language": "python",
   "name": "python3"
  },
  "language_info": {
   "codemirror_mode": {
    "name": "ipython",
    "version": 3
   },
   "file_extension": ".py",
   "mimetype": "text/x-python",
   "name": "python",
   "nbconvert_exporter": "python",
   "pygments_lexer": "ipython3",
   "version": "3.8.3"
  }
 },
 "nbformat": 4,
 "nbformat_minor": 4
}
